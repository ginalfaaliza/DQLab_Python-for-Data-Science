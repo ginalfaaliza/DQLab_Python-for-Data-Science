{
  "nbformat": 4,
  "nbformat_minor": 0,
  "metadata": {
    "colab": {
      "provenance": [],
      "include_colab_link": true
    },
    "kernelspec": {
      "name": "python3",
      "display_name": "Python 3"
    },
    "language_info": {
      "name": "python"
    }
  },
  "cells": [
    {
      "cell_type": "markdown",
      "metadata": {
        "id": "view-in-github",
        "colab_type": "text"
      },
      "source": [
        "<a href=\"https://colab.research.google.com/github/ginalfaaliza/DQLab_Python-for-Data-Science/blob/main/Case_Study_Promos_for_our_e_commerce_with_python.ipynb\" target=\"_parent\"><img src=\"https://colab.research.google.com/assets/colab-badge.svg\" alt=\"Open In Colab\"/></a>"
      ]
    },
    {
      "cell_type": "markdown",
      "source": [
        "#Data Exploration"
      ],
      "metadata": {
        "id": "N_S4FoRcUNA7"
      }
    },
    {
      "cell_type": "code",
      "execution_count": 29,
      "metadata": {
        "id": "mlkB5sK1SwOo",
        "colab": {
          "base_uri": "https://localhost:8080/"
        },
        "outputId": "113635c9-e094-4325-b4f0-5b2c7ce2aa7c"
      },
      "outputs": [
        {
          "output_type": "stream",
          "name": "stdout",
          "text": [
            "\n",
            "[1] Data eksplorasi dengan head(), info(), describe(), shape\n",
            "Lima data teratas:\n",
            "   Daily Time Spent on Site  Age  Area Income  Daily Internet Usage  \\\n",
            "0                     68.95   35     61833.90                256.09   \n",
            "1                     80.23   31     68441.85                193.77   \n",
            "2                     69.47   26     59785.94                236.50   \n",
            "3                     74.15   29     54806.18                245.89   \n",
            "4                     68.37   35     73889.99                225.58   \n",
            "\n",
            "                           Ad Topic Line            City  Male     Country  \\\n",
            "0     Cloned 5thgeneration orchestration     Wrightburgh     0     Tunisia   \n",
            "1     Monitored national standardization       West Jodi     1       Nauru   \n",
            "2       Organic bottom-line service-desk        Davidton     0  San Marino   \n",
            "3  Triple-buffered reciprocal time-frame  West Terrifurt     1       Italy   \n",
            "4          Robust logistical utilization    South Manuel     0     Iceland   \n",
            "\n",
            "         Timestamp  Clicked on Ad  \n",
            "0   3/27/2016 0:53              0  \n",
            "1    4/4/2016 1:39              0  \n",
            "2  3/13/2016 20:35              0  \n",
            "3   1/10/2016 2:31              0  \n",
            "4    6/3/2016 3:36              0  \n",
            "Informasi dataset:\n",
            "<class 'pandas.core.frame.DataFrame'>\n",
            "RangeIndex: 1000 entries, 0 to 999\n",
            "Data columns (total 10 columns):\n",
            " #   Column                    Non-Null Count  Dtype  \n",
            "---  ------                    --------------  -----  \n",
            " 0   Daily Time Spent on Site  1000 non-null   float64\n",
            " 1   Age                       1000 non-null   int64  \n",
            " 2   Area Income               1000 non-null   float64\n",
            " 3   Daily Internet Usage      1000 non-null   float64\n",
            " 4   Ad Topic Line             1000 non-null   object \n",
            " 5   City                      1000 non-null   object \n",
            " 6   Male                      1000 non-null   int64  \n",
            " 7   Country                   1000 non-null   object \n",
            " 8   Timestamp                 1000 non-null   object \n",
            " 9   Clicked on Ad             1000 non-null   int64  \n",
            "dtypes: float64(3), int64(3), object(4)\n",
            "memory usage: 78.2+ KB\n",
            "None\n",
            "Statistik deskriptif dataset:\n",
            "       Daily Time Spent on Site          Age   Area Income  \\\n",
            "count               1000.000000  1000.000000   1000.000000   \n",
            "mean                  65.000200    36.009000  55000.000080   \n",
            "std                   15.853615     8.785562  13414.634022   \n",
            "min                   32.600000    19.000000  13996.500000   \n",
            "25%                   51.360000    29.000000  47031.802500   \n",
            "50%                   68.215000    35.000000  57012.300000   \n",
            "75%                   78.547500    42.000000  65470.635000   \n",
            "max                   91.430000    61.000000  79484.800000   \n",
            "\n",
            "       Daily Internet Usage         Male  Clicked on Ad  \n",
            "count           1000.000000  1000.000000     1000.00000  \n",
            "mean             180.000100     0.481000        0.50000  \n",
            "std               43.902339     0.499889        0.50025  \n",
            "min              104.780000     0.000000        0.00000  \n",
            "25%              138.830000     0.000000        0.00000  \n",
            "50%              183.130000     0.000000        0.50000  \n",
            "75%              218.792500     1.000000        1.00000  \n",
            "max              269.960000     1.000000        1.00000  \n",
            "Ukuran dataset:\n",
            "(1000, 10)\n"
          ]
        }
      ],
      "source": [
        "#import library\n",
        "import pandas as pd\n",
        "\n",
        "# read data 'ecommerce_banner_promo.csv'\n",
        "data = pd.read_csv('https://storage.googleapis.com/dqlab-dataset/pythonTutorial/ecommerce_banner_promo.csv')\n",
        "\n",
        "#1. Data Explaratory with head(), info(), describe(), shape\n",
        "print(\"\\n[1] Data eksplorasi dengan head(), info(), describe(), shape\")\n",
        "print(\"Lima data teratas:\")\n",
        "print(data.head())\n",
        "print(\"Informasi dataset:\")\n",
        "print(data.info())\n",
        "print(\"Statistik deskriptif dataset:\")\n",
        "print(data.describe())\n",
        "print(\"Ukuran dataset:\")\n",
        "print(data.shape)"
      ]
    },
    {
      "cell_type": "code",
      "source": [
        "#2.check correlation value for each feature use .corr()\n",
        "print(\"\\n[2] Data eksplorasi dengan dengan mengecek korelasi dari setiap feature menggunakan fungsi corr()\")\n",
        "print(data.select_dtypes(include=['float','int']).corr())"
      ],
      "metadata": {
        "id": "BUDblDE9Wfee",
        "colab": {
          "base_uri": "https://localhost:8080/"
        },
        "outputId": "fecef6ce-5cd5-47fc-85d1-af92063499fa"
      },
      "execution_count": 30,
      "outputs": [
        {
          "output_type": "stream",
          "name": "stdout",
          "text": [
            "\n",
            "[2] Data eksplorasi dengan dengan mengecek korelasi dari setiap feature menggunakan fungsi corr()\n",
            "                          Daily Time Spent on Site       Age  Area Income  \\\n",
            "Daily Time Spent on Site                  1.000000 -0.331513     0.310954   \n",
            "Age                                      -0.331513  1.000000    -0.182605   \n",
            "Area Income                               0.310954 -0.182605     1.000000   \n",
            "Daily Internet Usage                      0.518658 -0.367209     0.337496   \n",
            "Male                                     -0.018951 -0.021044     0.001322   \n",
            "Clicked on Ad                            -0.748117  0.492531    -0.476255   \n",
            "\n",
            "                          Daily Internet Usage      Male  Clicked on Ad  \n",
            "Daily Time Spent on Site              0.518658 -0.018951      -0.748117  \n",
            "Age                                  -0.367209 -0.021044       0.492531  \n",
            "Area Income                           0.337496  0.001322      -0.476255  \n",
            "Daily Internet Usage                  1.000000  0.028012      -0.786539  \n",
            "Male                                  0.028012  1.000000      -0.038027  \n",
            "Clicked on Ad                        -0.786539 -0.038027       1.000000  \n"
          ]
        }
      ]
    },
    {
      "cell_type": "code",
      "source": [
        "#3.check data distribution with .groupby() based on 'Clicked on Ad' and .size()\n",
        "print(\"\\n[3] Data eksplorasi dengan mengecek distribusi label menggunakan fungsi groupby() dan size()\")\n",
        "print(data.groupby('Clicked on Ad').size())\n"
      ],
      "metadata": {
        "id": "-b5B2aJiXBSP",
        "colab": {
          "base_uri": "https://localhost:8080/"
        },
        "outputId": "fe0308e4-bb17-4cb6-c348-a477bb90aa3f"
      },
      "execution_count": 31,
      "outputs": [
        {
          "output_type": "stream",
          "name": "stdout",
          "text": [
            "\n",
            "[3] Data eksplorasi dengan mengecek distribusi label menggunakan fungsi groupby() dan size()\n",
            "Clicked on Ad\n",
            "0    500\n",
            "1    500\n",
            "dtype: int64\n"
          ]
        }
      ]
    },
    {
      "cell_type": "markdown",
      "source": [
        "# Data Eksploration using visual"
      ],
      "metadata": {
        "id": "iwKB6MO1cY8D"
      }
    },
    {
      "cell_type": "code",
      "source": [
        "#import library\n",
        "import matplotlib.pyplot as plt\n",
        "import seaborn as sns"
      ],
      "metadata": {
        "id": "Z0ESv57fZ6Tr"
      },
      "execution_count": 32,
      "outputs": []
    },
    {
      "cell_type": "code",
      "source": [
        "# Seting: matplotlib and seaborn\n",
        "sns.set_style('whitegrid')\n",
        "plt.style.use('fivethirtyeight')"
      ],
      "metadata": {
        "id": "YPpUCY5yb2A2"
      },
      "execution_count": 33,
      "outputs": []
    },
    {
      "cell_type": "code",
      "source": [
        "#4. Data Exploration with visualization\n",
        "#4a. visualization total user by Age range\n",
        "plt.figure(figsize=(10, 5))\n",
        "plt.hist(data['Age'], bins = data.Age.nunique())\n",
        "plt.xlabel('Age')\n",
        "plt.show()"
      ],
      "metadata": {
        "id": "jWUW1b9LcT-K",
        "colab": {
          "base_uri": "https://localhost:8080/",
          "height": 494
        },
        "outputId": "50299067-ffd3-41e5-a899-3016939b8f75"
      },
      "execution_count": 34,
      "outputs": [
        {
          "output_type": "display_data",
          "data": {
            "text/plain": [
              "<Figure size 1000x500 with 1 Axes>"
            ],
            "image/png": "[encoded data removed]"
          },
          "metadata": {}
        }
      ]
    },
    {
      "cell_type": "code",
      "source": [
        "#4b. visualize relation for each feature\n",
        "plt.figure()\n",
        "sns.pairplot(data)\n",
        "plt.show()"
      ],
      "metadata": {
        "id": "stLMojazdyK1"
      },
      "execution_count": null,
      "outputs": []
    },
    {
      "cell_type": "code",
      "source": [
        "#5. check missing value\n",
        "print('\\n total of missing value :')\n",
        "print(data.isnull().sum().sum())"
      ],
      "metadata": {
        "id": "hs0G6wufiEm3"
      },
      "execution_count": null,
      "outputs": []
    },
    {
      "cell_type": "markdown",
      "source": [
        "# Modelling"
      ],
      "metadata": {
        "id": "D7vDs3bAjWrT"
      }
    },
    {
      "cell_type": "code",
      "source": [
        "#import library\n",
        "from sklearn.model_selection import train_test_split\n",
        "from sklearn.linear_model import LogisticRegression"
      ],
      "metadata": {
        "id": "UEhl2zYaic24"
      },
      "execution_count": null,
      "outputs": []
    },
    {
      "cell_type": "code",
      "source": [
        "print(\"\\n[6] Lakukan pemodelan dengan Logistic Regression, gunakan perbandingan 80:20 untuk training vs testing\")\n",
        "#6a.Drop Non-Numerical (object type) feature from X, as Logistic Regression can only take numbers, and also drop Target/label, assign Target Variable to y.\n",
        "X = data.drop(['Ad Topic Line','City','Country','Timestamp','Clicked on Ad'], axis = 1)\n",
        "y = data['Clicked on Ad']"
      ],
      "metadata": {
        "id": "BAtp1Ctmjbdz"
      },
      "execution_count": null,
      "outputs": []
    },
    {
      "cell_type": "code",
      "source": [
        "#6b. splitting the data\n",
        "X_train, X_test, y_train, y_test = train_test_split(X, y, test_size = 0.2, random_state = 42)"
      ],
      "metadata": {
        "id": "hkq8aHRClh6O"
      },
      "execution_count": null,
      "outputs": []
    },
    {
      "cell_type": "code",
      "source": [
        "#6c. Modelling\n",
        "# Call the classifier\n",
        "logreg = LogisticRegression()\n",
        "# Fit the classifier to the training data\n",
        "logreg = logreg.fit(X_train,y_train)\n",
        "# Prediksi model\n",
        "y_pred = logreg.predict(X_test)"
      ],
      "metadata": {
        "id": "oDXXg3Pwl-Rr"
      },
      "execution_count": null,
      "outputs": []
    },
    {
      "cell_type": "code",
      "source": [
        "#6d. Evaluasi Model Performance\n",
        "print(\"Evaluasi Model Performance:\")\n",
        "print(\"Training Accuracy :\", logreg.score(X_train, y_train))\n",
        "print(\"Testing Accuracy :\", logreg.score(X_test, y_test))"
      ],
      "metadata": {
        "id": "tzOATZQAmDCV"
      },
      "execution_count": null,
      "outputs": []
    },
    {
      "cell_type": "markdown",
      "source": [
        "# Evaluation of Performance"
      ],
      "metadata": {
        "id": "aW9gUdXXnWwp"
      }
    },
    {
      "cell_type": "code",
      "source": [
        "# Import library\n",
        "from sklearn.metrics import confusion_matrix, classification_report"
      ],
      "metadata": {
        "id": "JAYVg3g8mQvb"
      },
      "execution_count": null,
      "outputs": []
    },
    {
      "cell_type": "code",
      "source": [
        "#7. Print Confusion matrix dan classification report\n",
        "print(\"\\n[7] Print Confusion matrix dan classification report\")\n",
        "\n",
        "#apply confusion_matrix function to y_test and y_pred\n",
        "print(\"Confusion matrix:\")\n",
        "cm = confusion_matrix(y_test,y_pred)\n",
        "print(cm)\n",
        "\n",
        "#apply classification_report function to y_test and y_pred\n",
        "print(\"Classification report:\")\n",
        "cr = classification_report(y_test,y_pred)\n",
        "print(cr)"
      ],
      "metadata": {
        "id": "jb5YGaKWng-U"
      },
      "execution_count": null,
      "outputs": []
    }
  ]
}