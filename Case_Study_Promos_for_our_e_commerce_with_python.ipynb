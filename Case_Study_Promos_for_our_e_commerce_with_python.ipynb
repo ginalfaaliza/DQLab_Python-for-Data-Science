{
  "nbformat": 4,
  "nbformat_minor": 0,
  "metadata": {
    "colab": {
      "provenance": [],
      "authorship_tag": "ABX9TyPqLTWJLG4QOOFX1rN2Q24D",
      "include_colab_link": true
    },
    "kernelspec": {
      "name": "python3",
      "display_name": "Python 3"
    },
    "language_info": {
      "name": "python"
    }
  },
  "cells": [
    {
      "cell_type": "markdown",
      "metadata": {
        "id": "view-in-github",
        "colab_type": "text"
      },
      "source": [
        "<a href=\"https://colab.research.google.com/github/ginalfaaliza/DQLab_Python-for-Data-Science/blob/main/Case_Study_Promos_for_our_e_commerce_with_python.ipynb\" target=\"_parent\"><img src=\"https://colab.research.google.com/assets/colab-badge.svg\" alt=\"Open In Colab\"/></a>"
      ]
    },
    {
      "cell_type": "markdown",
      "source": [
        "#Data Exploration"
      ],
      "metadata": {
        "id": "N_S4FoRcUNA7"
      }
    },
    {
      "cell_type": "code",
      "execution_count": null,
      "metadata": {
        "id": "mlkB5sK1SwOo"
      },
      "outputs": [],
      "source": [
        "#import library \n",
        "import pandas as pd\n",
        "\n",
        "# read data 'ecommerce_banner_promo.csv'\n",
        "data = pd.read_csv('https://storage.googleapis.com/dqlab-dataset/pythonTutorial/ecommerce_banner_promo.csv')\n",
        "\n",
        "#1. Data Explaratory with head(), info(), describe(), shape\n",
        "print(\"\\n[1] Data eksplorasi dengan head(), info(), describe(), shape\")\n",
        "print(\"Lima data teratas:\")\n",
        "print(data.head())\n",
        "print(\"Informasi dataset:\")\n",
        "print(data.info())\n",
        "print(\"Statistik deskriptif dataset:\")\n",
        "print(data.describe())\n",
        "print(\"Ukuran dataset:\")\n",
        "print(data.shape)"
      ]
    },
    {
      "cell_type": "code",
      "source": [
        "#2.check correlation value for each feature use .corr()\n",
        "print(\"\\n[2] Data eksplorasi dengan dengan mengecek korelasi dari setiap feature menggunakan fungsi corr()\")\n",
        "print(data.corr())"
      ],
      "metadata": {
        "id": "BUDblDE9Wfee"
      },
      "execution_count": null,
      "outputs": []
    },
    {
      "cell_type": "code",
      "source": [
        "#3.check data distribution with .groupby() based on 'Clicked on Ad' and .size()\n",
        "print(\"\\n[3] Data eksplorasi dengan mengecek distribusi label menggunakan fungsi groupby() dan size()\")\n",
        "print(data.groupby('Clicked on Ad').size())\n"
      ],
      "metadata": {
        "id": "-b5B2aJiXBSP"
      },
      "execution_count": null,
      "outputs": []
    },
    {
      "cell_type": "markdown",
      "source": [
        "# Data Eksploration using visual"
      ],
      "metadata": {
        "id": "iwKB6MO1cY8D"
      }
    },
    {
      "cell_type": "code",
      "source": [
        "#import library\n",
        "import matplotlib.pyplot as plt\n",
        "import seaborn as sns"
      ],
      "metadata": {
        "id": "Z0ESv57fZ6Tr"
      },
      "execution_count": 8,
      "outputs": []
    },
    {
      "cell_type": "code",
      "source": [
        "# Seting: matplotlib and seaborn\n",
        "sns.set_style('whitegrid')  \n",
        "plt.style.use('fivethirtyeight')"
      ],
      "metadata": {
        "id": "YPpUCY5yb2A2"
      },
      "execution_count": 9,
      "outputs": []
    },
    {
      "cell_type": "code",
      "source": [
        "#4. Data Exploration with visualization\n",
        "#4a. visualization total user by Age range \n",
        "plt.figure(figsize=(10, 5))\n",
        "plt.hist(data['Age'], bins = data.Age.nunique())\n",
        "plt.xlabel('Age')\n",
        "plt.show()"
      ],
      "metadata": {
        "id": "jWUW1b9LcT-K"
      },
      "execution_count": null,
      "outputs": []
    },
    {
      "cell_type": "code",
      "source": [
        "#4b. visualize relation for each feature\n",
        "plt.figure()\n",
        "sns.pairplot(data)\n",
        "plt.show()"
      ],
      "metadata": {
        "id": "stLMojazdyK1"
      },
      "execution_count": null,
      "outputs": []
    },
    {
      "cell_type": "code",
      "source": [
        "#5. check missing value \n",
        "print('\\n total of missing value :')\n",
        "print(data.isnull().sum().sum())"
      ],
      "metadata": {
        "id": "hs0G6wufiEm3"
      },
      "execution_count": null,
      "outputs": []
    },
    {
      "cell_type": "markdown",
      "source": [
        "# Modelling"
      ],
      "metadata": {
        "id": "D7vDs3bAjWrT"
      }
    },
    {
      "cell_type": "code",
      "source": [
        "#import library\n",
        "from sklearn.model_selection import train_test_split\n",
        "from sklearn.linear_model import LogisticRegression"
      ],
      "metadata": {
        "id": "UEhl2zYaic24"
      },
      "execution_count": 18,
      "outputs": []
    },
    {
      "cell_type": "code",
      "source": [
        "print(\"\\n[6] Lakukan pemodelan dengan Logistic Regression, gunakan perbandingan 80:20 untuk training vs testing\")\n",
        "#6a.Drop Non-Numerical (object type) feature from X, as Logistic Regression can only take numbers, and also drop Target/label, assign Target Variable to y.\n",
        "X = data.drop(['Ad Topic Line','City','Country','Timestamp','Clicked on Ad'], axis = 1)\n",
        "y = data['Clicked on Ad']"
      ],
      "metadata": {
        "id": "BAtp1Ctmjbdz"
      },
      "execution_count": null,
      "outputs": []
    },
    {
      "cell_type": "code",
      "source": [
        "#6b. splitting the data\n",
        "X_train, X_test, y_train, y_test = train_test_split(X, y, test_size = 0.2, random_state = 42)"
      ],
      "metadata": {
        "id": "hkq8aHRClh6O"
      },
      "execution_count": 22,
      "outputs": []
    },
    {
      "cell_type": "code",
      "source": [
        "#6c. Modelling\n",
        "# Call the classifier\n",
        "logreg = LogisticRegression()\n",
        "# Fit the classifier to the training data\n",
        "logreg = logreg.fit(X_train,y_train)\n",
        "# Prediksi model\n",
        "y_pred = logreg.predict(X_test)"
      ],
      "metadata": {
        "id": "oDXXg3Pwl-Rr"
      },
      "execution_count": 23,
      "outputs": []
    },
    {
      "cell_type": "code",
      "source": [
        "#6d. Evaluasi Model Performance\n",
        "print(\"Evaluasi Model Performance:\")\n",
        "print(\"Training Accuracy :\", logreg.score(X_train, y_train))\n",
        "print(\"Testing Accuracy :\", logreg.score(X_test, y_test))"
      ],
      "metadata": {
        "id": "tzOATZQAmDCV"
      },
      "execution_count": null,
      "outputs": []
    },
    {
      "cell_type": "markdown",
      "source": [
        "# Evaluation of Performance"
      ],
      "metadata": {
        "id": "aW9gUdXXnWwp"
      }
    },
    {
      "cell_type": "code",
      "source": [
        "# Import library\n",
        "from sklearn.metrics import confusion_matrix, classification_report"
      ],
      "metadata": {
        "id": "JAYVg3g8mQvb"
      },
      "execution_count": 25,
      "outputs": []
    },
    {
      "cell_type": "code",
      "source": [
        "#7. Print Confusion matrix dan classification report\n",
        "print(\"\\n[7] Print Confusion matrix dan classification report\")\n",
        "\n",
        "#apply confusion_matrix function to y_test and y_pred\n",
        "print(\"Confusion matrix:\")\n",
        "cm = confusion_matrix(y_test,y_pred)\n",
        "print(cm)\n",
        "\n",
        "#apply classification_report function to y_test and y_pred\n",
        "print(\"Classification report:\")\n",
        "cr = classification_report(y_test,y_pred)\n",
        "print(cr)"
      ],
      "metadata": {
        "id": "jb5YGaKWng-U"
      },
      "execution_count": null,
      "outputs": []
    }
  ]
}